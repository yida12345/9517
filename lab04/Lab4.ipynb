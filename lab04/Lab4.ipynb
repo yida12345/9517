{
 "cells": [
  {
   "metadata": {},
   "cell_type": "markdown",
   "source": "# Lab4",
   "id": "740e8b559c4e2d2e"
  },
  {
   "metadata": {},
   "cell_type": "markdown",
   "source": "## Import",
   "id": "fae0148fa27037b0"
  },
  {
   "metadata": {
    "ExecuteTime": {
     "end_time": "2025-07-06T08:01:05.030447Z",
     "start_time": "2025-07-06T08:01:05.023941Z"
    }
   },
   "cell_type": "code",
   "source": [
    "import os\n",
    "import cv2\n",
    "import numpy as np\n",
    "import matplotlib.pyplot as plt\n",
    "\n",
    "N = 25\n",
    "threshold_value = 128\n",
    "kernel_size = 5\n",
    "min_size_nut = 900\n",
    "max_size_nut = 1500\n",
    "min_size_bolt = 2000\n",
    "\n",
    "image_files = [f for f in os.listdir('COMP9517_25T2_Lab4_Images') if f.endswith('.jpg')]\n",
    "image_files"
   ],
   "id": "cc3c903520830cf",
   "outputs": [
    {
     "data": {
      "text/plain": [
       "['Nuts+Bolts-1.jpg', 'Nuts+Bolts-2.jpg', 'Nuts+Bolts-3.jpg']"
      ]
     },
     "execution_count": 23,
     "metadata": {},
     "output_type": "execute_result"
    }
   ],
   "execution_count": 23
  },
  {
   "metadata": {
    "ExecuteTime": {
     "end_time": "2025-07-06T08:01:05.105688Z",
     "start_time": "2025-07-06T08:01:05.045339Z"
    }
   },
   "cell_type": "code",
   "source": [
    "for img_name in image_files:\n",
    "    img = cv2.imread(os.path.join('COMP9517_25T2_Lab4_Images', img_name))\n",
    "    gray = cv2.cvtColor(img, cv2.COLOR_BGR2GRAY)\n",
    "\n",
    "    _, binary = cv2.threshold(gray, threshold_value, 255, cv2.THRESH_BINARY_INV)\n",
    "\n",
    "    kernel = cv2.getStructuringElement(cv2.MORPH_ELLIPSE, (kernel_size, kernel_size))\n",
    "    binary = cv2.morphologyEx(binary, cv2.MORPH_CLOSE, kernel)\n",
    "    binary = cv2.morphologyEx(binary, cv2.MORPH_OPEN, kernel)\n",
    "\n",
    "    num_labels, labels, stats, centroids = cv2.connectedComponentsWithStats(binary)\n",
    "    nuts = 0\n",
    "    bolts = 0\n",
    "    for i in range(1, num_labels):\n",
    "        area = stats[i, cv2.CC_STAT_AREA]\n",
    "        # print(area)\n",
    "        if min_size_nut <= area <= max_size_nut:\n",
    "            nuts += 1\n",
    "        elif area >= min_size_bolt:\n",
    "            bolts += 1\n",
    "\n",
    "    if nuts == N and bolts == N:\n",
    "        print(f\"{img_name} ({nuts:2}nuts, {bolts:2}bolts): All good\")\n",
    "    else:\n",
    "        ans=[]\n",
    "        if nuts < N:\n",
    "            ans.append(f\"Add {N-nuts} nuts\")\n",
    "        elif nuts > N:\n",
    "            ans.append(f\"Remove {nuts-N} nuts\")\n",
    "        if bolts < N:\n",
    "            ans.append(f\"Add {N-bolts} bolts\")\n",
    "        elif bolts > N:\n",
    "            ans.append(f\"Remove {bolts-N} bolts\")\n",
    "        print(f\"{img_name} ({nuts:2}nuts, {bolts:2}bolts): \" + \", \".join(ans))"
   ],
   "id": "cbcbe862417da000",
   "outputs": [
    {
     "name": "stdout",
     "output_type": "stream",
     "text": [
      "Nuts+Bolts-1.jpg (25nuts, 25bolts): All good\n",
      "Nuts+Bolts-2.jpg (24nuts, 25bolts): Add 1 nuts\n",
      "Nuts+Bolts-3.jpg (25nuts, 26bolts): Remove 1 bolts\n"
     ]
    }
   ],
   "execution_count": 24
  }
 ],
 "metadata": {
  "kernelspec": {
   "display_name": "Python 3",
   "language": "python",
   "name": "python3"
  },
  "language_info": {
   "codemirror_mode": {
    "name": "ipython",
    "version": 2
   },
   "file_extension": ".py",
   "mimetype": "text/x-python",
   "name": "python",
   "nbconvert_exporter": "python",
   "pygments_lexer": "ipython2",
   "version": "2.7.6"
  }
 },
 "nbformat": 4,
 "nbformat_minor": 5
}
